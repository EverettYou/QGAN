{
 "cells": [
  {
   "cell_type": "code",
   "execution_count": 2,
   "metadata": {
    "collapsed": false
   },
   "outputs": [],
   "source": [
    "%run 'qGAN.py'"
   ]
  },
  {
   "cell_type": "code",
   "execution_count": 337,
   "metadata": {
    "collapsed": false
   },
   "outputs": [
    {
     "data": {
      "text/plain": [
       "array([ 0.00012137,  0.00012137])"
      ]
     },
     "execution_count": 337,
     "metadata": {},
     "output_type": "execute_result"
    }
   ],
   "source": [
    "mps = MPS(1)\n",
    "mps.pin_phys(numpy.ones(2))\n",
    "out0 = mps.forward(numpy.ones(2))\n",
    "mps.backward(0.0001*numpy.ones(2))\n",
    "out1 = mps.forward(numpy.ones(2))\n",
    "(out1 - out0)/numpy.linalg.norm(out0)"
   ]
  },
  {
   "cell_type": "code",
   "execution_count": 73,
   "metadata": {
    "collapsed": false
   },
   "outputs": [
    {
     "data": {
      "text/plain": [
       "array([ -7.46110068e-05,   4.61055100e-04])"
      ]
     },
     "execution_count": 73,
     "metadata": {},
     "output_type": "execute_result"
    }
   ],
   "source": [
    "mps = MPS(4)\n",
    "mps.pin_phys(numpy.ones(2))\n",
    "out0 = mps.forward(numpy.array([1.,0.]))\n",
    "mps.backward(-0.0001*numpy.array([1.,-10.]))\n",
    "out1 = mps.forward(numpy.array([1.,0.]))\n",
    "out1 - out0"
   ]
  },
  {
   "cell_type": "code",
   "execution_count": 102,
   "metadata": {
    "collapsed": true
   },
   "outputs": [],
   "source": [
    "mps = MPS(4)"
   ]
  },
  {
   "cell_type": "code",
   "execution_count": 103,
   "metadata": {
    "collapsed": true
   },
   "outputs": [],
   "source": [
    "mps.pin_phys(numpy.array([0,1]))"
   ]
  },
  {
   "cell_type": "code",
   "execution_count": 104,
   "metadata": {
    "collapsed": false
   },
   "outputs": [
    {
     "name": "stdout",
     "output_type": "stream",
     "text": [
      "[ 0.03571354  0.70232077]\n",
      "[ 0.07882753  0.85883928]\n",
      "[ 0.14695493  1.04493411]\n"
     ]
    }
   ],
   "source": [
    "x = numpy.array([1,0])\n",
    "y = mps.forward(x)\n",
    "for i in range(3):\n",
    "    print(y)\n",
    "    grad = 0.05*y\n",
    "    mps.backward(grad)\n",
    "    y = mps.forward(x)"
   ]
  },
  {
   "cell_type": "code",
   "execution_count": 89,
   "metadata": {
    "collapsed": false
   },
   "outputs": [
    {
     "name": "stdout",
     "output_type": "stream",
     "text": [
      "[ 0.24854994  0.84604398] [ 6.00935168  2.7083927 ]\n",
      "[ 0.46584829  0.75036059] [ 5.78344085  2.26190111]\n",
      "[ 0.61958171  0.67454724] [ 5.75617075  2.02071758]\n",
      "[ 0.73011776  0.61139585] [ 5.81128977  1.87240833]\n",
      "[ 0.80999528  0.55728684] [ 5.91943527  1.77001561]\n",
      "[ 0.86776868  0.51019826] [ 6.08125888  1.68992239]\n",
      "[ 0.90955218  0.46883112] [ 6.31975823  1.62161063]\n",
      "[ 0.93977472  0.43224853] [ 6.68286903  1.56058707]\n",
      "[ 0.96164579  0.39972181] [ 7.26308584  1.50500092]\n",
      "[ 0.9774838   0.37066041] [ 8.25881155  1.45408104]\n",
      "[ 0.98895844  0.34457617] [ 10.19234078   1.40744684]\n",
      "[ 0.99727015  0.32106184] [ 15.05531536   1.36482645]\n",
      "[ 1.00328185  0.29977613] [ 44.04418774   1.32595699]\n",
      "[ 1.00761462  0.28043217] [-26.4043966    1.29056043]\n",
      "[ 1.01071651  0.26278812] [-8.14719449  1.25834717]\n",
      "[ 1.01291184  0.24663943] [-4.09710049  1.22902684]\n",
      "[ 1.01443632  0.23181248] [-2.3613696   1.20231847]\n",
      "[ 1.01546207  0.21815921] [-1.42106219  1.17795772]\n",
      "[ 1.01611541  0.20555287] [-0.84508827  1.15570116]\n",
      "[ 1.0164896   0.19388437] [-0.46438099  1.13532806]\n",
      "[ 1.01665387  0.18305942] [-0.19924136  1.11664047]\n",
      "[ 1.01665996  0.17299607] [-0.00731945  1.09946223]\n",
      "[ 1.01654679  0.16362282] [ 0.13585927  1.08363742]\n",
      "[ 1.01634381  0.15487695] [ 0.2453401   1.06902842]\n",
      "[ 1.01607347  0.14670321] [ 0.33081748  1.05551399]\n",
      "[ 1.01575299  0.13905273] [ 0.39877272  1.04298731]\n",
      "[ 1.01539565  0.1318821 ] [ 0.45366934  1.03135427]\n",
      "[ 1.0150118  0.1251526] [ 0.49865715  1.0205318 ]\n",
      "[ 1.01460948  0.1188296 ] [ 0.53600507  1.01044648]\n",
      "[ 1.01419502  0.11288198] [ 0.56737665  1.00103326]\n",
      "[ 1.01377342  0.10728171] [ 0.59401073  0.99223435]\n",
      "[ 1.01334862  0.10200346] [ 0.61684288  0.98399829]\n",
      "[ 1.01292374  0.09702427] [ 0.63658868  0.97627912]\n",
      "[ 1.01250126  0.09232327] [ 0.65380201  0.96903567]\n",
      "[ 1.01208315  0.08788146] [ 0.66891631  0.96223097]\n",
      "[ 1.01167095  0.08368146] [ 0.6822744   0.95583172]\n",
      "[ 1.01126588  0.0797074 ] [ 0.69415014  0.94980784]\n",
      "[ 1.01086889  0.07594468] [ 0.70476438  0.94413209]\n",
      "[ 1.01048071  0.07237991] [ 0.71429685  0.93877973]\n",
      "[ 1.01010189  0.06900076] [ 0.72289513  0.93372827]\n",
      "[ 1.00973282  0.06579582] [ 0.73068135  0.92895717]\n",
      "[ 1.0093738   0.06275458] [ 0.73775746  0.92444764]\n",
      "[ 1.009025   0.0598673] [ 0.74420911  0.92018249]\n",
      "[ 1.00868651  0.05712494] [ 0.75010887  0.91614593]\n",
      "[ 1.00835837  0.05451912] [ 0.75551854  0.91232341]\n",
      "[ 1.00804055  0.05204204] [ 0.76049115  0.90870156]\n",
      "[ 1.00773297  0.04968644] [ 0.76507244  0.905268  ]\n",
      "[ 1.00743552  0.04744555] [ 0.76930208  0.90201132]\n",
      "[ 1.00714805  0.04531306] [ 0.77321466  0.89892093]\n",
      "[ 1.00687041  0.04328306] [ 0.77684048  0.89598702]\n"
     ]
    }
   ],
   "source": [
    "x = numpy.array([1,0])\n",
    "y = numpy.array([1,0])\n",
    "out1 = mps.forward(x)\n",
    "for i in range(50):\n",
    "    grad = -0.05*(out1 - y)\n",
    "    mps.backward(grad)\n",
    "    out0 = out1\n",
    "    out1 = mps.forward(x)\n",
    "    print(out1, (out1-out0)/grad)"
   ]
  },
  {
   "cell_type": "code",
   "execution_count": 93,
   "metadata": {
    "collapsed": false
   },
   "outputs": [
    {
     "data": {
      "text/plain": [
       "array([ 1.00687041,  0.04328306])"
      ]
     },
     "execution_count": 93,
     "metadata": {},
     "output_type": "execute_result"
    }
   ],
   "source": [
    "mps.pin_phys(numpy.array([1,0]))\n",
    "mps.forward(numpy.array([1,0]))"
   ]
  },
  {
   "cell_type": "code",
   "execution_count": 432,
   "metadata": {
    "collapsed": false,
    "scrolled": true
   },
   "outputs": [
    {
     "data": {
      "text/plain": [
       "array([[-0.09438549, -1.96403226],\n",
       "       [ 0.78461358,  0.08077859],\n",
       "       [ 0.22485233, -0.07664104]])"
      ]
     },
     "execution_count": 432,
     "metadata": {},
     "output_type": "execute_result"
    }
   ],
   "source": [
    "mps.relatent()\n",
    "mps.units[-1].tensor[:,:,1]"
   ]
  },
  {
   "cell_type": "code",
   "execution_count": null,
   "metadata": {
    "collapsed": true
   },
   "outputs": [],
   "source": []
  },
  {
   "cell_type": "code",
   "execution_count": 63,
   "metadata": {
    "collapsed": false
   },
   "outputs": [],
   "source": [
    "mps = MPS(3,phys_dim = 3)\n",
    "mps.pin_phys(numpy.array([1,1,0]))\n",
    "mps.relatent()\n",
    "y = numpy.array([1,0])"
   ]
  },
  {
   "cell_type": "code",
   "execution_count": 72,
   "metadata": {
    "collapsed": false
   },
   "outputs": [
    {
     "name": "stdout",
     "output_type": "stream",
     "text": [
      "[ 1.10447315 -0.03804628] [-0.00104473  0.00038046]\n",
      "[ 1.01724121  0.00545029] [ -1.72412074e-04  -5.45028967e-05]\n",
      "[ 1.1333927   0.03594843] [-0.00133393 -0.00035948]\n",
      "[ 1.05277531  0.02097561] [-0.00052775 -0.00020976]\n",
      "[ 1.13662865 -0.00830442] [ -1.36628650e-03   8.30441615e-05]\n",
      "[ 1.26482536  0.03290161] [-0.00264825 -0.00032902]\n",
      "[ 0.6958651  -0.02558612] [ 0.00304135  0.00025586]\n",
      "[ 0.69153104  0.03359942] [ 0.00308469 -0.00033599]\n",
      "[ 1.01339993 -0.02357983] [-0.000134   0.0002358]\n",
      "[ 1.12503111 -0.04360959] [-0.00125031  0.0004361 ]\n"
     ]
    }
   ],
   "source": [
    "for i in range(500):\n",
    "    z = numpy.random.normal(size = 2)\n",
    "    z[0] = 1.\n",
    "    z = z/numpy.linalg.norm(z)\n",
    "    out = mps.forward(z)\n",
    "    grad = -0.01*(out - y)\n",
    "    mps.backward(grad)\n",
    "    if i % 50 == 0:\n",
    "        print(out, grad)"
   ]
  },
  {
   "cell_type": "code",
   "execution_count": 237,
   "metadata": {
    "collapsed": false
   },
   "outputs": [
    {
     "data": {
      "text/plain": [
       "16.0"
      ]
     },
     "execution_count": 237,
     "metadata": {},
     "output_type": "execute_result"
    }
   ],
   "source": [
    "numpy.sum((2*x)**2)"
   ]
  },
  {
   "cell_type": "code",
   "execution_count": 110,
   "metadata": {
    "collapsed": false
   },
   "outputs": [
    {
     "data": {
      "text/plain": [
       "0.0"
      ]
     },
     "execution_count": 110,
     "metadata": {},
     "output_type": "execute_result"
    }
   ],
   "source": [
    "numpy.linalg.norm([0,0,0], ord=2)"
   ]
  },
  {
   "cell_type": "code",
   "execution_count": 109,
   "metadata": {
    "collapsed": false
   },
   "outputs": [
    {
     "data": {
      "text/plain": [
       "array([], dtype=float64)"
      ]
     },
     "execution_count": 109,
     "metadata": {},
     "output_type": "execute_result"
    }
   ],
   "source": [
    "numpy."
   ]
  },
  {
   "cell_type": "code",
   "execution_count": null,
   "metadata": {
    "collapsed": true
   },
   "outputs": [],
   "source": []
  }
 ],
 "metadata": {
  "kernelspec": {
   "display_name": "Python 3",
   "language": "python",
   "name": "python3"
  },
  "language_info": {
   "codemirror_mode": {
    "name": "ipython",
    "version": 3
   },
   "file_extension": ".py",
   "mimetype": "text/x-python",
   "name": "python",
   "nbconvert_exporter": "python",
   "pygments_lexer": "ipython3",
   "version": "3.5.1"
  }
 },
 "nbformat": 4,
 "nbformat_minor": 0
}
