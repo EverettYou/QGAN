{
 "cells": [
  {
   "cell_type": "markdown",
   "metadata": {},
   "source": [
    "# Quantum Generative Adversarial Network"
   ]
  },
  {
   "cell_type": "markdown",
   "metadata": {},
   "source": [
    "This notebook contains documentation of the algorithm and testing codes. First run the following line to load the package."
   ]
  },
  {
   "cell_type": "code",
   "execution_count": 76,
   "metadata": {
    "collapsed": false
   },
   "outputs": [],
   "source": [
    "%run 'QGAN.py'"
   ]
  },
  {
   "cell_type": "markdown",
   "metadata": {},
   "source": [
    "## Classes"
   ]
  },
  {
   "cell_type": "markdown",
   "metadata": {},
   "source": [
    "### Class `Pauli`"
   ]
  },
  {
   "cell_type": "markdown",
   "metadata": {},
   "source": [
    "`Pauli(Xs, Zs, L)` representes a Pauli (string) operator labeled by\n",
    "- two sets $\\mathcal{X}$ (`Xs`) and $\\mathcal{Z}$ (`Zs`)  that specifies the positions on which $\\sigma^x$ and $\\sigma^z$ act respectively,\n",
    "- and a integer `L` that specifies the total number of qubits on which the Pauli operator acts.\n",
    "\n",
    "$$\\sigma = \\mathrm{i}^{|\\mathcal{X}\\cap\\mathcal{Z}|}\\otimes_{i\\in\\mathcal{X}} \\sigma_i^1\\otimes_{i\\in\\mathcal{Z}}\\sigma_i^3$$\n",
    "\n",
    "`Pauli.mat()` returns the matrix representation (in terms of scipy CSR sparse array) of the Pauli operator. We assume all local operators are modeled by Pauli operators."
   ]
  },
  {
   "cell_type": "code",
   "execution_count": 494,
   "metadata": {
    "collapsed": false
   },
   "outputs": [
    {
     "data": {
      "text/plain": [
       "(array([[ 0.+0.j,  0.-1.j,  0.+0.j,  0.+0.j],\n",
       "        [ 0.+1.j,  0.+0.j,  0.+0.j,  0.+0.j],\n",
       "        [ 0.+0.j,  0.+0.j,  0.+0.j,  0.+1.j],\n",
       "        [ 0.+0.j,  0.+0.j,  0.-1.j,  0.+0.j]]), σ[3, 2])"
      ]
     },
     "execution_count": 494,
     "metadata": {},
     "output_type": "execute_result"
    }
   ],
   "source": [
    "op = Pauli({1},{0,1}, 2) \n",
    "op.mat().toarray(), op"
   ]
  },
  {
   "cell_type": "markdown",
   "metadata": {},
   "source": [
    "### Class `Model`"
   ]
  },
  {
   "cell_type": "markdown",
   "metadata": {},
   "source": [
    "`Model(L, loc = 2)` model a system of length `L` (number of qubits) on with local operators supported on `loc` adjacent sites. Periodic boundary condition is assumed.\n",
    "- `Model.dim` is the many-body Hilbert space dimension.\n",
    "- `Model.ops` holds the basis of local operators.\n",
    "- `Model.opdim` is the dimension of the local operator space.\n",
    "- `Model.sample()` draws a sample of `(h,M)` pair."
   ]
  },
  {
   "cell_type": "markdown",
   "metadata": {},
   "source": [
    "A simple one qubit model."
   ]
  },
  {
   "cell_type": "code",
   "execution_count": 78,
   "metadata": {
    "collapsed": false
   },
   "outputs": [
    {
     "data": {
      "text/plain": [
       "(2, 3, [σ[1], σ[2], σ[3]])"
      ]
     },
     "execution_count": 78,
     "metadata": {},
     "output_type": "execute_result"
    }
   ],
   "source": [
    "mdl = Model(1)\n",
    "# Hilbert space dim, operator space dim, operators\n",
    "mdl.dim, mdl.opdim, mdl.ops"
   ]
  },
  {
   "cell_type": "markdown",
   "metadata": {},
   "source": [
    "As expected, the ground state of correlation matrix recovers the Hamiltonian nicely."
   ]
  },
  {
   "cell_type": "code",
   "execution_count": 82,
   "metadata": {
    "collapsed": false
   },
   "outputs": [
    {
     "data": {
      "text/plain": [
       "(array([-0.55193861, -0.48502894, -0.67831461]),\n",
       " array([-0.55193861, -0.48502894, -0.67831461]))"
      ]
     },
     "execution_count": 82,
     "metadata": {},
     "output_type": "execute_result"
    }
   ],
   "source": [
    "(h, M) = mdl.sample()\n",
    "h, GS(M)"
   ]
  },
  {
   "cell_type": "markdown",
   "metadata": {},
   "source": [
    "More serious 10-qubit model. Calculate the fidelity between the Hamiltonian and the ground state of the correlation matrix. The fidelity is typically ~ 1."
   ]
  },
  {
   "cell_type": "code",
   "execution_count": 83,
   "metadata": {
    "collapsed": false
   },
   "outputs": [
    {
     "data": {
      "text/plain": [
       "0.99999999999999956"
      ]
     },
     "execution_count": 83,
     "metadata": {},
     "output_type": "execute_result"
    }
   ],
   "source": [
    "mdl = Model(10)\n",
    "(h, M) = mdl.sample()\n",
    "abs(GS(M).dot(h))"
   ]
  },
  {
   "cell_type": "markdown",
   "metadata": {},
   "source": [
    "Once the model is built, the calculation of correlation matrix can be faster (~ 100ms to generate a sample of (H,M) pair for 10-qubit system). "
   ]
  },
  {
   "cell_type": "code",
   "execution_count": 85,
   "metadata": {
    "collapsed": false
   },
   "outputs": [
    {
     "name": "stdout",
     "output_type": "stream",
     "text": [
      "CPU times: user 101 ms, sys: 3.9 ms, total: 105 ms\n",
      "Wall time: 97.9 ms\n"
     ]
    }
   ],
   "source": [
    "%%time\n",
    "(h, M) = mdl.sample()"
   ]
  },
  {
   "cell_type": "markdown",
   "metadata": {},
   "source": [
    "### Class `MPS`"
   ]
  },
  {
   "cell_type": "markdown",
   "metadata": {},
   "source": [
    "`MPS(depth, dim)` creates an MPS of depth `depth` with the bond dimension `dim` (which should match the operator space dimension).\n",
    "- `MPS.P(h)` get P matrix from Hamiltonian vector `h`.\n",
    "- `MPS.mul(val)` multiplies the resulting P matrix by `val`."
   ]
  },
  {
   "cell_type": "code",
   "execution_count": 74,
   "metadata": {
    "collapsed": false
   },
   "outputs": [
    {
     "data": {
      "text/plain": [
       "Variable containing:\n",
       " 2.0000  0.0000\n",
       " 0.0000  2.0000\n",
       "[torch.FloatTensor of size 2x2]"
      ]
     },
     "execution_count": 74,
     "metadata": {},
     "output_type": "execute_result"
    }
   ],
   "source": [
    "mps = MPS(3, 2)\n",
    "mps.mul(2.)\n",
    "mps.P(torch.ones(2))"
   ]
  },
  {
   "cell_type": "code",
   "execution_count": 261,
   "metadata": {
    "collapsed": false
   },
   "outputs": [
    {
     "data": {
      "text/plain": [
       "\n",
       " 1.2000  0.2000\n",
       " 0.2000  1.2000\n",
       "[torch.FloatTensor of size 2x2]"
      ]
     },
     "execution_count": 261,
     "metadata": {},
     "output_type": "execute_result"
    }
   ],
   "source": [
    "%run \"QGAN.py\"\n",
    "u = MPSunit(2)\n",
    "u.push(torch.ones(2))\n",
    "u.mat.data += 0.2*torch.ones(2,2)\n",
    "u.update()"
   ]
  },
  {
   "cell_type": "code",
   "execution_count": 262,
   "metadata": {
    "collapsed": false
   },
   "outputs": [
    {
     "data": {
      "text/plain": [
       "\n",
       " 1.5181\n",
       " 0.1242\n",
       "[torch.FloatTensor of size 2]"
      ]
     },
     "execution_count": 262,
     "metadata": {},
     "output_type": "execute_result"
    }
   ],
   "source": [
    "u.s"
   ]
  },
  {
   "cell_type": "code",
   "execution_count": 125,
   "metadata": {
    "collapsed": false
   },
   "outputs": [
    {
     "data": {
      "text/plain": [
       "\n",
       " 1.2559\n",
       "[torch.FloatTensor of size 1]"
      ]
     },
     "execution_count": 125,
     "metadata": {},
     "output_type": "execute_result"
    }
   ],
   "source": [
    "torch.sqrt(s[:1])"
   ]
  },
  {
   "cell_type": "code",
   "execution_count": 674,
   "metadata": {
    "collapsed": false
   },
   "outputs": [],
   "source": [
    "mps = MPS(5, 2)"
   ]
  },
  {
   "cell_type": "markdown",
   "metadata": {},
   "source": [
    "Basic functions:\n",
    "- `MPS.initialize(val)` initializes the MPS to be a two-way multiplier between the left and the right auxilary spaces, with the multiplication factor set by `val`, given the physical legs are pinned to $(1,0,0\\cdots)$.\n",
    "- `MPS.pin(phys_env)` pins all physical legs to the physical environment vector `phys_env`.\n",
    "- `MPS.fromright(right_env)` takes the right environment vecotor `right_env` from the right end and push it all the way to the left, returning the output on the left end (typically used to pass the random source forward).\n",
    "- `MPS.fromleft(left_env)` takes the left environment vector `left_env` from the left end and push it all the way to the right, returning the output on the right end (typically used to propagate the gradient backward)."
   ]
  },
  {
   "cell_type": "code",
   "execution_count": 675,
   "metadata": {
    "collapsed": false
   },
   "outputs": [
    {
     "data": {
      "text/plain": [
       "array([ 2.,  6.])"
      ]
     },
     "execution_count": 675,
     "metadata": {},
     "output_type": "execute_result"
    }
   ],
   "source": [
    "mps.initialize(2.)\n",
    "mps.pin([1,0,0])\n",
    "mps.fromleft([1,3])"
   ]
  },
  {
   "cell_type": "markdown",
   "metadata": {},
   "source": [
    "In our application, we will always take the right auxilary space as the latent space and the left auxilary space as the operator space. Given the physical legs pinned,\n",
    "- `MPS.evaluate()` contract the right auxilary space and returns the density matrix in the operator space,\n",
    "- `MPS.update(grad)` pass down the gradient of the density matrix `grad`, the MPS will be updated by ascending the gradient using the stocastic training method. (One should not expect the density matrix to be updated by the exact among of gradient, because the gradient signal is just a force acting on the MPS, how the MPS response to the force with displacement still depends on the stiffness, but different matrix element has different stiffness so the update outcome is onlu roughly along the gradient ascending direction)."
   ]
  },
  {
   "cell_type": "code",
   "execution_count": 676,
   "metadata": {
    "collapsed": false
   },
   "outputs": [
    {
     "data": {
      "text/plain": [
       "array([[ 4.,  0.],\n",
       "       [ 0.,  4.]])"
      ]
     },
     "execution_count": 676,
     "metadata": {},
     "output_type": "execute_result"
    }
   ],
   "source": [
    "mps.evaluate()"
   ]
  },
  {
   "cell_type": "code",
   "execution_count": 677,
   "metadata": {
    "collapsed": false
   },
   "outputs": [
    {
     "data": {
      "text/plain": [
       "array([[ 4.67782278,  1.4174439 ],\n",
       "       [ 1.4174439 ,  4.85481607]])"
      ]
     },
     "execution_count": 677,
     "metadata": {},
     "output_type": "execute_result"
    }
   ],
   "source": [
    "mps.update(0.01*numpy.array([[0,1],[1,0]]))\n",
    "mps.evaluate()"
   ]
  },
  {
   "cell_type": "markdown",
   "metadata": {},
   "source": [
    "Interface functions (with pytorch) for MPS optimization.\n",
    "- `MPS.getP(h)` given the Hamiltonian (in vector form) `h`, calculate the density matrix by pinning the physical legs to $v=(1,h)$. The latent space is integrated over, s.t.\n",
    "$$P(h)=MPS(h)\\cdot MPS(h)^\\intercal.$$\n",
    "- `MPS.optimize(V)` gradient **descent** the value function `V` by updating the MPS. "
   ]
  },
  {
   "cell_type": "markdown",
   "metadata": {},
   "source": [
    "Set a objective $P_0$ to approach:"
   ]
  },
  {
   "cell_type": "code",
   "execution_count": 706,
   "metadata": {
    "collapsed": false
   },
   "outputs": [],
   "source": [
    "P0 = torch.autograd.Variable(torch.Tensor(numpy.array(\n",
    "            [[0.7,0.1],\n",
    "             [0.1,0.3]])))"
   ]
  },
  {
   "cell_type": "markdown",
   "metadata": {},
   "source": [
    "The MPS can be simply trained by considering the quadratic loss function. Using the stocastic training approach by sampling random vectors in the latent space, the convergence looks great. "
   ]
  },
  {
   "cell_type": "code",
   "execution_count": 733,
   "metadata": {
    "collapsed": false
   },
   "outputs": [
    {
     "name": "stdout",
     "output_type": "stream",
     "text": [
      "[[ 1.  0.]\n",
      " [ 0.  1.]] [ 0.59999996]\n",
      "[[ 0.77360308  0.15239084]\n",
      " [ 0.15239084  0.3149952 ]] [ 0.01113187]\n",
      "[[ 0.70194817  0.09709518]\n",
      " [ 0.09709518  0.30814871]] [  8.70726362e-05]\n",
      "[[ 0.7008909   0.10005269]\n",
      " [ 0.10005269  0.30040869]] [  9.66293101e-07]\n"
     ]
    }
   ],
   "source": [
    "mps.initialize(1.)\n",
    "for i in range(200):\n",
    "    P = mps.getP([0.2,0.4])\n",
    "    V = torch.sum((P - P0)**2)\n",
    "    mps.optimize(V)\n",
    "    if i%50 == 0:\n",
    "        print(P.data.numpy(), V.data.numpy())"
   ]
  },
  {
   "cell_type": "markdown",
   "metadata": {
    "collapsed": false
   },
   "source": [
    "### Class `GM`"
   ]
  },
  {
   "cell_type": "markdown",
   "metadata": {},
   "source": [
    "`GM(L, depth, loss_fn = \"MSE\")` build a generative model of system size `L` and MPS depth `depth`. Trained using the loss function specified by `loss_fn`."
   ]
  },
  {
   "cell_type": "code",
   "execution_count": 1622,
   "metadata": {
    "collapsed": true
   },
   "outputs": [],
   "source": [
    "%run \"QGAN.py\"\n",
    "gm = GM(1, 3, loss_fn = 'JSD')"
   ]
  },
  {
   "cell_type": "code",
   "execution_count": 1623,
   "metadata": {
    "collapsed": false
   },
   "outputs": [
    {
     "name": "stdout",
     "output_type": "stream",
     "text": [
      "{'h fidelity': 0.40904110837347185, 'M deviation': 0.17470390650906359}\n",
      "{'h fidelity': 0.72370532049053793, 'M deviation': 0.086724218403669756}\n",
      "{'h fidelity': 0.99562372370029106, 'M deviation': 0.020045222316304935}\n",
      "{'h fidelity': 0.99724377729966729, 'M deviation': 0.0046568962042187979}\n",
      "{'h fidelity': 0.99948108656422363, 'M deviation': 0.00094357419558209845}\n",
      "{'h fidelity': 0.99969577740283455, 'M deviation': 0.00046437606099845565}\n",
      "{'h fidelity': 0.99972710587171354, 'M deviation': 0.00033280008692989423}\n",
      "{'h fidelity': 0.9998646142497809, 'M deviation': 0.00018074854474282704}\n",
      "{'h fidelity': 0.99991146399777397, 'M deviation': 0.00013603845579194035}\n",
      "{'h fidelity': 0.99992941874697427, 'M deviation': 0.00011384342417081287}\n"
     ]
    }
   ],
   "source": [
    "for i in range(500):\n",
    "    loss = gm.train()\n",
    "    if i%50 == 0:\n",
    "        print(gm.test())"
   ]
  },
  {
   "cell_type": "markdown",
   "metadata": {},
   "source": [
    "Profiling the training."
   ]
  },
  {
   "cell_type": "code",
   "execution_count": 1060,
   "metadata": {
    "collapsed": false
   },
   "outputs": [
    {
     "name": "stdout",
     "output_type": "stream",
     "text": [
      " \n",
      "*** Profile stats marshalled to file '/var/folders/tl/lwpcq5qj049ftcj7pvhkzv_h0000gn/T/tmpar0u4dyp'. \n"
     ]
    }
   ],
   "source": [
    "%reload_ext snakeviz\n",
    "%snakeviz gm.train()"
   ]
  },
  {
   "cell_type": "code",
   "execution_count": null,
   "metadata": {
    "collapsed": true
   },
   "outputs": [],
   "source": []
  },
  {
   "cell_type": "code",
   "execution_count": 279,
   "metadata": {
    "collapsed": false
   },
   "outputs": [
    {
     "name": "stdout",
     "output_type": "stream",
     "text": [
      "{'h fidelity': 0.60455973632633686, 'M deviation': 0.22034702439530796}\n",
      "{'h fidelity': 0.40069881267845631, 'M deviation': 0.21627008879558482}\n",
      "{'h fidelity': 0.55811284855008125, 'M deviation': 0.21448836064688032}\n",
      "{'h fidelity': 0.54445063695311546, 'M deviation': 0.21157469558273778}\n",
      "{'h fidelity': 0.41239827685058117, 'M deviation': 0.21467416353369759}\n",
      "{'h fidelity': 0.50414573214948177, 'M deviation': 0.21288489500086116}\n",
      "{'h fidelity': 0.6291191577911377, 'M deviation': 0.21126553978343868}\n",
      "{'h fidelity': 0.63520073145627975, 'M deviation': 0.20564728523245329}\n",
      "{'h fidelity': 0.40561063587665558, 'M deviation': 0.20576043927183713}\n",
      "{'h fidelity': 0.3769370224326849, 'M deviation': 0.21282607831746619}\n"
     ]
    }
   ],
   "source": [
    "%run \"QGAN.py\"\n",
    "gm = GM(1, 3, loss_fn = 'MSE')\n",
    "for i in range(500):\n",
    "    loss = gm.train()\n",
    "    if i%50 == 0:\n",
    "        print(gm.test())"
   ]
  },
  {
   "cell_type": "code",
   "execution_count": 284,
   "metadata": {
    "collapsed": false
   },
   "outputs": [
    {
     "name": "stdout",
     "output_type": "stream",
     "text": [
      "[[ 0.9999994  0.       ]\n",
      " [ 0.         0.9999994]] [ 0.53851616]\n",
      "[[ 1.07681322  0.        ]\n",
      " [ 0.          0.82907784]] [ 0.35137901]\n",
      "[[ 1.15965378  0.        ]\n",
      " [ 0.          0.70470172]] [ 0.20863992]\n",
      "[[ 1.21114719  0.        ]\n",
      " [ 0.          0.60689586]] [ 0.1074755]\n",
      "[[ 1.182181    0.        ]\n",
      " [ 0.          0.53062516]] [ 0.0354319]\n"
     ]
    }
   ],
   "source": [
    "%run \"QGAN.py\"\n",
    "mps = MPS(5, 2)\n",
    "optimizer = torch.optim.SGD(mps.params, 0.01)\n",
    "PM = torch.autograd.Variable(torch.Tensor(numpy.array([[1.2,0],[0,0.5]])))\n",
    "for i in range(5):\n",
    "    PG = mps.P(torch.ones(2))\n",
    "    loss = torch.dist(PM, PG)\n",
    "    optimizer.zero_grad()\n",
    "    loss.backward()\n",
    "    optimizer.step()\n",
    "    mps.update()\n",
    "    print(PG.data.numpy(), loss.data.numpy())"
   ]
  },
  {
   "cell_type": "code",
   "execution_count": 212,
   "metadata": {
    "collapsed": false
   },
   "outputs": [
    {
     "data": {
      "text/plain": [
       "Variable containing:\n",
       " 1.3254  0.0000\n",
       " 0.0000  0.4779\n",
       "[torch.FloatTensor of size 2x2]"
      ]
     },
     "execution_count": 212,
     "metadata": {},
     "output_type": "execute_result"
    }
   ],
   "source": [
    "mps.update()\n",
    "mps.P(torch.ones(2))"
   ]
  },
  {
   "cell_type": "code",
   "execution_count": 215,
   "metadata": {
    "collapsed": false
   },
   "outputs": [
    {
     "name": "stdout",
     "output_type": "stream",
     "text": [
      "\n",
      " 1.0000  0.0000\n",
      " 0.0000  1.0000\n",
      "[torch.FloatTensor of size 2x2]\n",
      " Variable containing:\n",
      " 1.0286  0.0000\n",
      " 0.0000  0.9288\n",
      "[torch.FloatTensor of size 2x2]\n",
      "\n",
      "\n",
      " 1.0000  0.0000\n",
      " 0.0000  1.0000\n",
      "[torch.FloatTensor of size 2x2]\n",
      " Variable containing:\n",
      " 1.0286  0.0000\n",
      " 0.0000  0.9288\n",
      "[torch.FloatTensor of size 2x2]\n",
      "\n",
      "\n",
      " 1.0000  0.0000\n",
      " 0.0000  1.0000\n",
      "[torch.FloatTensor of size 2x2]\n",
      " Variable containing:\n",
      " 1.0286  0.0000\n",
      " 0.0000  0.9288\n",
      "[torch.FloatTensor of size 2x2]\n",
      "\n",
      "\n",
      " 1.0000  0.0000\n",
      " 0.0000  1.0000\n",
      "[torch.FloatTensor of size 2x2]\n",
      " Variable containing:\n",
      " 1.0286  0.0000\n",
      " 0.0000  0.9288\n",
      "[torch.FloatTensor of size 2x2]\n",
      "\n",
      "\n",
      " 1.0000  0.0000\n",
      " 0.0000  1.0000\n",
      "[torch.FloatTensor of size 2x2]\n",
      " Variable containing:\n",
      " 1.0286  0.0000\n",
      " 0.0000  0.9288\n",
      "[torch.FloatTensor of size 2x2]\n",
      "\n"
     ]
    }
   ],
   "source": [
    "for unit in mps.units:\n",
    "    print(unit.mat0, unit.mat)"
   ]
  },
  {
   "cell_type": "code",
   "execution_count": null,
   "metadata": {
    "collapsed": true
   },
   "outputs": [],
   "source": []
  }
 ],
 "metadata": {
  "kernelspec": {
   "display_name": "Python 3",
   "language": "python",
   "name": "python3"
  },
  "language_info": {
   "codemirror_mode": {
    "name": "ipython",
    "version": 3
   },
   "file_extension": ".py",
   "mimetype": "text/x-python",
   "name": "python",
   "nbconvert_exporter": "python",
   "pygments_lexer": "ipython3",
   "version": "3.5.1"
  }
 },
 "nbformat": 4,
 "nbformat_minor": 0
}
